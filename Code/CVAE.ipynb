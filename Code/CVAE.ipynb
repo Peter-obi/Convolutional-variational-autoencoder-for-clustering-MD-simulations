{
 "cells": [
  {
   "cell_type": "code",
   "execution_count": 1,
   "metadata": {
    "id": "xJRLtcjjLVe2"
   },
   "outputs": [],
   "source": [
    "import numpy as np\n",
    "import torch\n",
    "import torch.nn as nn\n",
    "import torch.nn.functional as F\n",
    "from torch.utils.data import DataLoader, random_split\n",
    "from torchvision.transforms import transforms\n"
   ]
  },
  {
   "cell_type": "code",
   "execution_count": 2,
   "metadata": {
    "colab": {
     "base_uri": "https://localhost:8080/"
    },
    "id": "jJqES32fJa7_",
    "outputId": "21bdfcfd-b61d-4fd5-a99f-fa2ca4c72e20"
   },
   "outputs": [
    {
     "name": "stdout",
     "output_type": "stream",
     "text": [
      "Mounted at /content/gdrive\n"
     ]
    }
   ],
   "source": [
    "from google.colab import drive\n",
    "drive.mount('/content/gdrive')"
   ]
  },
  {
   "cell_type": "code",
   "execution_count": 3,
   "metadata": {
    "colab": {
     "base_uri": "https://localhost:8080/"
    },
    "id": "ru7OMnx0J9w8",
    "outputId": "1c05c91e-0404-49c5-88ce-c6a87c691c89"
   },
   "outputs": [
    {
     "name": "stdout",
     "output_type": "stream",
     "text": [
      "Archive:  gdrive/My Drive/CVAE_data/archive_name.zip\n",
      "  inflating: contact_maps_traj1.npy  \n",
      "  inflating: contact_maps_traj2.npy  \n"
     ]
    }
   ],
   "source": [
    "!unzip gdrive/My\\ Drive/CVAE_data/archive_name.zip"
   ]
  },
  {
   "cell_type": "code",
   "execution_count": 4,
   "metadata": {
    "id": "35yx2Pv_Ki_I"
   },
   "outputs": [],
   "source": [
    "# Load the contact maps from files\n",
    "contact_maps_traj1 = np.load(\"contact_maps_traj1.npy\")\n",
    "contact_maps_traj2 = np.load(\"contact_maps_traj2.npy\")"
   ]
  },
  {
   "cell_type": "code",
   "execution_count": 5,
   "metadata": {
    "colab": {
     "base_uri": "https://localhost:8080/"
    },
    "id": "HHf1gXmSrXqm",
    "outputId": "e7fcf896-df51-4ef0-d9c8-f8dbb4d156e4"
   },
   "outputs": [
    {
     "name": "stdout",
     "output_type": "stream",
     "text": [
      "(10000, 283, 283)\n",
      "(10000, 283, 283)\n",
      "(283, 283)\n"
     ]
    }
   ],
   "source": [
    "print(contact_maps_traj1.shape)\n",
    "print(contact_maps_traj2.shape)\n",
    "print(contact_maps_traj1[0].shape)"
   ]
  },
  {
   "cell_type": "code",
   "execution_count": 6,
   "metadata": {
    "id": "v3OUFhzlLL5r"
   },
   "outputs": [],
   "source": [
    "from sklearn.model_selection import train_test_split\n",
    "\n",
    "# Split the contact maps for each trajectory into train, validation, and test sets\n",
    "train_maps_traj1, valtest_maps_traj1 = train_test_split(contact_maps_traj1, test_size=0.2, random_state=42)\n",
    "val_maps_traj1, test_maps_traj1 = train_test_split(valtest_maps_traj1, test_size=0.5, random_state=42)\n",
    "\n",
    "train_maps_traj2, valtest_maps_traj2 = train_test_split(contact_maps_traj2, test_size=0.2, random_state=42)\n",
    "val_maps_traj2, test_maps_traj2 = train_test_split(valtest_maps_traj2, test_size=0.5, random_state=42)\n"
   ]
  },
  {
   "cell_type": "code",
   "execution_count": 7,
   "metadata": {
    "id": "B5-eROKnlTTr"
   },
   "outputs": [],
   "source": [
    "# Concatenate and shuffle train maps\n",
    "train_maps = np.concatenate((train_maps_traj1, train_maps_traj2), axis=0)\n",
    "np.random.shuffle(train_maps)\n",
    "\n",
    "# Concatenate and shuffle validation maps\n",
    "val_maps = np.concatenate((val_maps_traj1, val_maps_traj2), axis=0)\n",
    "np.random.shuffle(val_maps)\n",
    "\n",
    "# Concatenate and shuffle test maps\n",
    "test_maps = np.concatenate((test_maps_traj1, test_maps_traj2), axis=0)\n",
    "np.random.shuffle(test_maps)\n"
   ]
  },
  {
   "cell_type": "code",
   "execution_count": 8,
   "metadata": {
    "id": "1C6ZByBflYjB"
   },
   "outputs": [],
   "source": [
    "train_data = torch.utils.data.TensorDataset(torch.from_numpy(train_maps).float()) \n",
    "val_data = torch.utils.data.TensorDataset(torch.from_numpy(val_maps).float()) \n",
    "test_data = torch.utils.data.TensorDataset(torch.from_numpy(test_maps).float())"
   ]
  },
  {
   "cell_type": "code",
   "execution_count": 8,
   "metadata": {
    "id": "C4CZ6QiDmj5L"
   },
   "outputs": [],
   "source": [
    "# Set the batch size\n",
    "batch_size = 1"
   ]
  },
  {
   "cell_type": "code",
   "execution_count": 10,
   "metadata": {
    "id": "1uwsp0jDJRgn"
   },
   "outputs": [],
   "source": [
    "train_data = torch.utils.data.TensorDataset(torch.from_numpy(train_maps).float()) \n",
    "val_data = torch.utils.data.TensorDataset(torch.from_numpy(val_maps).float()) \n",
    "test_data = torch.utils.data.TensorDataset(torch.from_numpy(test_maps).float())\n",
    "train_dataloader = torch.utils.data.DataLoader(train_data, batch_size=batch_size, shuffle=True) \n",
    "val_dataloader = torch.utils.data.DataLoader(val_data, batch_size=batch_size, shuffle=True) \n",
    "test_dataloader = torch.utils.data.DataLoader(test_data, batch_size=batch_size, shuffle=True)"
   ]
  },
  {
   "cell_type": "code",
   "execution_count": 14,
   "metadata": {
    "colab": {
     "base_uri": "https://localhost:8080/"
    },
    "id": "M1Q1WIoTl3w3",
    "outputId": "b0e7305f-9a9b-4644-bc7f-6614d9015d88"
   },
   "outputs": [
    {
     "name": "stdout",
     "output_type": "stream",
     "text": [
      "Output size after Conv1: 280\n",
      "Output size after Conv2: 277\n",
      "Output size after Conv3: 274\n"
     ]
    }
   ],
   "source": [
    "import torch.optim as optim\n",
    "\n",
    "def conv_output_size(input_size, kernel_size, stride=1, padding=0):\n",
    "    return (input_size - kernel_size + 2 * padding) // stride + 1\n",
    "\n",
    "input_size = 283\n",
    "conv1_out = conv_output_size(input_size, kernel_size=4, stride=1)\n",
    "conv2_out = conv_output_size(conv1_out, kernel_size=4, stride=1)\n",
    "conv3_out = conv_output_size(conv2_out, kernel_size=4, stride=1)\n",
    "print(\"Output size after Conv1:\", conv1_out)\n",
    "print(\"Output size after Conv2:\", conv2_out)\n",
    "print(\"Output size after Conv3:\", conv3_out)\n",
    "\n",
    "class CVAE(nn.Module):\n",
    "    def __init__(self):\n",
    "        super(CVAE, self).__init__()\n",
    "        self.latent_dim = 20\n",
    "        self.conv1 = nn.Conv2d(1, 4, kernel_size=3, stride=1)\n",
    "        self.conv2 = nn.Conv2d(4, 8, kernel_size=3, stride=1)\n",
    "        self.conv3 = nn.Conv2d(8, 8, kernel_size=3, stride=1)\n",
    "\n",
    "        self.fc1 = nn.Linear(8 * 277 * 277, 256)\n",
    "        self.fc21 = nn.Linear(256, 64)\n",
    "        self.fc22 = nn.Linear(256, 64)\n",
    "        self.fc3 = nn.Linear(64, 8 * 276 * 276)\n",
    "        self.fc4 = nn.Linear(256, 8 * 276 * 276)\n",
    "\n",
    "        self.deconv1 = nn.ConvTranspose2d(8, 8, kernel_size=3, stride=1)\n",
    "        self.deconv2 = nn.ConvTranspose2d(8, 4, kernel_size=3, stride=1)\n",
    "        self.deconv3 = nn.ConvTranspose2d(4, 1, kernel_size=3, stride=1)\n",
    "\n",
    "    def encode(self, x):\n",
    "        h1 = F.relu(self.conv1(x))\n",
    "        h2 = F.relu(self.conv2(h1))\n",
    "        h3 = F.relu(self.conv3(h2))\n",
    "        #print(\"h3 shape:\", h3.shape)\n",
    "        h3 = h3.view(-1, 8 * 277 * 277)  # Update dimensions here\n",
    "        h4 = F.relu(self.fc1(h3))\n",
    "        return self.fc21(h4), self.fc22(h4)\n",
    "\n",
    "\n",
    "    def reparameterize(self, mu, logvar):\n",
    "        std = torch.exp(0.5 * logvar)\n",
    "        eps = torch.randn_like(std)\n",
    "        return mu + eps * std\n",
    "\n",
    "    def decode(self, z):\n",
    "      h3 = F.relu(self.fc3(z))\n",
    "      h3 = h3.view(-1, 8, 276, 276)\n",
    "      h2 = F.relu(self.deconv1(h3))\n",
    "      h1 = F.relu(self.deconv2(h2))\n",
    "      out = torch.sigmoid(self.deconv3(h1))\n",
    "\n",
    "    # Add padding to match input size\n",
    "      out_padded = F.pad(out, (1, 0, 1, 0))\n",
    "      return out_padded\n",
    "\n",
    "\n",
    "    def forward(self, x):\n",
    "      mu, logvar = self.encode(x)\n",
    "      z = self.reparameterize(mu, logvar)\n",
    "      return self.decode(z), mu, logvar\n",
    "\n",
    "\n",
    "device = torch.device(\"cuda\" if torch.cuda.is_available() else \"cpu\")\n",
    "model = CVAE().to(device)\n",
    "optimizer = optim.Adam(model.parameters(), lr=1e-3)\n",
    "best_val_loss = float('inf')\n",
    "def train(epoch, train_dataloader):\n",
    "    model.train()\n",
    "    train_loss = 0\n",
    "    for batch_idx, data in enumerate(train_dataloader):\n",
    "        data = data[0].to(device)\n",
    "        optimizer.zero_grad()\n",
    "        recon_batch, mu, logvar = model(data)\n",
    "        \n",
    "        # Squeeze the output tensor to remove the extra dimension\n",
    "        recon_batch = recon_batch.squeeze(dim=1)\n",
    "        \n",
    "        recon_loss = nn.BCELoss()(recon_batch, data)\n",
    "        kl_loss = -0.5 * torch.sum(1 + logvar - mu.pow(2) - logvar.exp())\n",
    "        loss = recon_loss + kl_loss\n",
    "        loss.backward()\n",
    "        train_loss += loss.item()\n",
    "        optimizer.step()\n",
    "\n",
    "    print(f'====> Epoch: {epoch} Average loss: {train_loss / len(train_dataloader.dataset):.4f}')\n",
    "\n",
    "# 4. Write the evaluation code\n",
    "def validate(epoch, val_dataloader):\n",
    "    model.eval()\n",
    "    val_loss = 0\n",
    "    with torch.no_grad():\n",
    "        for data in val_dataloader:\n",
    "            data = data[0].to(device)\n",
    "            recon_batch, mu, logvar = model(data)\n",
    "            recon_batch = recon_batch.squeeze(1)\n",
    "            recon_loss = nn.BCELoss()(recon_batch, data)\n",
    "            kl_loss = -0.5 * torch.sum(1 + logvar - mu.pow(2) - logvar.exp())\n",
    "            kl_loss /= data.shape[0] * 283 * 283\n",
    "            loss = recon_loss + kl_loss\n",
    "            val_loss += loss.item()\n",
    "\n",
    "    val_loss /= len(val_dataloader.dataset)\n",
    "    print('====> Validation set loss: {:.4f}'.format(val_loss))\n",
    "    return val_loss\n",
    "\n",
    "# Test the model\n",
    "def test(test_dataloader):\n",
    "    model.eval()\n",
    "    test_loss = 0\n",
    "    with torch.no_grad():\n",
    "        for data in test_dataloader:\n",
    "            data = data[0].to(device)\n",
    "            recon_batch, mu, logvar = model(data)\n",
    "            recon_batch = recon_batch.squeeze(1)\n",
    "            z = model.reparameterize(mu, logvar)\n",
    "            recon_loss = nn.BCELoss()(recon_batch, data)\n",
    "            kl_loss = -0.5 * torch.sum(1 + logvar - mu.pow(2) - logvar.exp())\n",
    "            kl_loss /= data.shape[0] * 283 * 283\n",
    "            loss = recon_loss + kl_loss\n",
    "            test_loss += loss.item()\n",
    "\n",
    "    test_loss /= len(test_dataloader.dataset)\n",
    "    print(f'====> Test set loss: {test_loss:.4f}')\n"
   ]
  },
  {
   "cell_type": "code",
   "execution_count": 15,
   "metadata": {
    "colab": {
     "base_uri": "https://localhost:8080/"
    },
    "id": "Dz-_Wug-WRnx",
    "outputId": "995fdb96-fe12-4134-88dc-b9001cdf0d7d"
   },
   "outputs": [
    {
     "name": "stdout",
     "output_type": "stream",
     "text": [
      "====> Epoch: 1 Average loss: 18665735.7799\n",
      "====> Validation set loss: 0.0167\n",
      "====> Epoch: 2 Average loss: 0.1829\n",
      "====> Validation set loss: 0.0161\n",
      "====> Epoch: 3 Average loss: 0.0822\n",
      "====> Validation set loss: 0.0159\n",
      "====> Epoch: 4 Average loss: 0.0159\n",
      "====> Validation set loss: 0.0158\n",
      "====> Epoch: 5 Average loss: 0.0158\n",
      "====> Validation set loss: 0.0158\n",
      "====> Epoch: 6 Average loss: 0.0158\n",
      "====> Validation set loss: 0.0158\n",
      "====> Epoch: 7 Average loss: 0.0158\n",
      "====> Validation set loss: 0.0158\n",
      "====> Epoch: 8 Average loss: 0.0158\n",
      "====> Validation set loss: 0.0157\n",
      "====> Epoch: 9 Average loss: 0.0157\n",
      "====> Validation set loss: 0.0158\n",
      "====> Epoch: 10 Average loss: 0.0157\n",
      "====> Validation set loss: 0.0157\n"
     ]
    }
   ],
   "source": [
    "# Train and validate the model\n",
    "num_epochs = 10\n",
    "for epoch in range(1, num_epochs + 1):\n",
    "    train(epoch, train_dataloader)\n",
    "    val_loss = validate(epoch, val_dataloader)\n",
    "\n",
    "    # Check if the current validation loss is better than the best validation loss\n",
    "    if val_loss < best_val_loss:\n",
    "        # Update the best validation loss\n",
    "        best_val_loss = val_loss\n",
    "        # Save the model\n",
    "        torch.save(model.state_dict(), 'best_model.pth')"
   ]
  },
  {
   "cell_type": "code",
   "execution_count": 22,
   "metadata": {
    "colab": {
     "base_uri": "https://localhost:8080/",
     "height": 360
    },
    "id": "A3p-jb8shXBV",
    "outputId": "7f99608f-ec43-4e17-e716-13f0b18fda1d"
   },
   "outputs": [
    {
     "name": "stderr",
     "output_type": "stream",
     "text": [
      "<ipython-input-22-0ab7af357470>:27: UserWarning: No data for colormapping provided via 'c'. Parameters 'cmap' will be ignored\n",
      "  plt.scatter(pca_latent_vars[:, 0], pca_latent_vars[:, 1], cmap='inferno')\n"
     ]
    },
    {
     "data": {
      "image/png": "[encoded data removed]",
      "text/plain": [
       "<Figure size 432x288 with 2 Axes>"
      ]
     },
     "metadata": {
      "needs_background": "light"
     },
     "output_type": "display_data"
    }
   ],
   "source": [
    "import numpy as np\n",
    "from sklearn.decomposition import PCA\n",
    "import matplotlib.pyplot as plt\n",
    "\n",
    "def extract_latent_variables(dataloader):\n",
    "    model.eval()\n",
    "    latents = []\n",
    "    with torch.no_grad():\n",
    "        for data in dataloader:\n",
    "            data = data[0].to(device)\n",
    "            mu, _ = model.encode(data)\n",
    "            latents.append(mu.cpu().numpy())\n",
    "    return np.vstack(latents)\n",
    "\n",
    "train_latent_vars = extract_latent_variables(train_dataloader)\n",
    "val_latent_vars = extract_latent_variables(val_dataloader)\n",
    "test_latent_vars = extract_latent_variables(test_dataloader)\n",
    "\n",
    "# Concatenate train, validation, and test latent variables\n",
    "all_latent_vars = np.concatenate([train_latent_vars, val_latent_vars, test_latent_vars], axis=0)\n",
    "\n",
    "# Perform PCA\n",
    "pca = PCA(n_components=2)\n",
    "pca_latent_vars = pca.fit_transform(all_latent_vars)\n",
    "\n",
    "# Create a scatter plot using the inferno colormap\n",
    "plt.scatter(pca_latent_vars[:, 0], pca_latent_vars[:, 1], cmap='inferno')\n",
    "plt.xlabel('Principal Component 1')\n",
    "plt.ylabel('Principal Component 2')\n",
    "plt.title('PCA of Latent Variables (Train, Val, Test)')\n",
    "plt.colorbar()\n",
    "plt.show()\n"
   ]
  },
  {
   "cell_type": "code",
   "execution_count": 25,
   "metadata": {
    "colab": {
     "base_uri": "https://localhost:8080/"
    },
    "id": "N6J3aT0olvv5",
    "outputId": "09b01d55-4a58-45ff-a97d-8373739cd73f"
   },
   "outputs": [
    {
     "name": "stdout",
     "output_type": "stream",
     "text": [
      "Top 10 contacts for PC1: [18 20 50 36 57 53 32 26 35 61]\n",
      "Top 10 contacts for PC2: [19 31 36 57 18 53 32 26 35 61]\n"
     ]
    }
   ],
   "source": [
    "# Find the top N contacts for each principal component\n",
    "N = 10  # Number of top contacts to identify\n",
    "top_pc1_contacts = np.argsort(np.abs(pc1))[-N:]\n",
    "top_pc2_contacts = np.argsort(np.abs(pc2))[-N:]\n",
    "\n",
    "print(\"Top\", N, \"contacts for PC1:\", top_pc1_contacts)\n",
    "print(\"Top\", N, \"contacts for PC2:\", top_pc2_contacts)\n"
   ]
  }
 ],
 "metadata": {
  "accelerator": "GPU",
  "colab": {
   "machine_shape": "hm",
   "provenance": []
  },
  "gpuClass": "standard",
  "kernelspec": {
   "display_name": "Python 3 (ipykernel)",
   "language": "python",
   "name": "python3"
  },
  "language_info": {
   "codemirror_mode": {
    "name": "ipython",
    "version": 3
   },
   "file_extension": ".py",
   "mimetype": "text/x-python",
   "name": "python",
   "nbconvert_exporter": "python",
   "pygments_lexer": "ipython3",
   "version": "3.9.13"
  }
 },
 "nbformat": 4,
 "nbformat_minor": 1
}
